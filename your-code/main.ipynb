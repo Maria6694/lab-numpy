{
 "cells": [
  {
   "cell_type": "markdown",
   "metadata": {},
   "source": [
    "# Intrduction to NumPy\n",
    "\n",
    "\n",
    "#### 1. Import NumPy under the name np."
   ]
  },
  {
   "cell_type": "code",
   "execution_count": 1,
   "metadata": {},
   "outputs": [],
   "source": [
    "import numpy as np"
   ]
  },
  {
   "cell_type": "markdown",
   "metadata": {},
   "source": [
    "#### 2. Print your NumPy version."
   ]
  },
  {
   "cell_type": "code",
   "execution_count": 2,
   "metadata": {},
   "outputs": [
    {
     "name": "stdout",
     "output_type": "stream",
     "text": [
      "1.17.3\n"
     ]
    }
   ],
   "source": [
    "print(np.__version__)"
   ]
  },
  {
   "cell_type": "markdown",
   "metadata": {},
   "source": [
    "#### 3. Generate a 2x3x5 3-dimensional array with random values. Assign the array to variable *a*.\n",
    "**Challenge**: there are at least three easy ways that use numpy to generate random arrays. How many ways can you find?"
   ]
  },
  {
   "cell_type": "code",
   "execution_count": 3,
   "metadata": {},
   "outputs": [],
   "source": [
    "a=np.random.rand(2,3,5) #Creates a 2x3x5 matrix"
   ]
  },
  {
   "cell_type": "code",
   "execution_count": 4,
   "metadata": {},
   "outputs": [],
   "source": [
    "a2 = np.arange(30).reshape(2,3,5)#Creates 1 directtional matrix (values from 0-30) and then reshapes it into a 2x3x5 matrix"
   ]
  },
  {
   "cell_type": "code",
   "execution_count": 5,
   "metadata": {},
   "outputs": [],
   "source": [
    "# Method 3"
   ]
  },
  {
   "cell_type": "markdown",
   "metadata": {},
   "source": [
    "#### 4. Print *a*.\n"
   ]
  },
  {
   "cell_type": "code",
   "execution_count": 6,
   "metadata": {},
   "outputs": [
    {
     "name": "stdout",
     "output_type": "stream",
     "text": [
      "[[[0.03879542 0.75836139 0.37713237 0.96596059 0.67337088]\n",
      "  [0.11018271 0.74337243 0.47133335 0.47315332 0.73588965]\n",
      "  [0.83415568 0.86824495 0.37749535 0.72199616 0.09772186]]\n",
      "\n",
      " [[0.16570096 0.93510121 0.59556608 0.23583894 0.72020446]\n",
      "  [0.40973249 0.04872209 0.83055642 0.07480481 0.68068872]\n",
      "  [0.0267615  0.7227258  0.25051321 0.9080112  0.04150746]]]\n"
     ]
    }
   ],
   "source": [
    "print(a)"
   ]
  },
  {
   "cell_type": "markdown",
   "metadata": {},
   "source": [
    "#### 5. Create a 5x2x3 3-dimensional array with all values equaling 1. Assign the array to variable *b*."
   ]
  },
  {
   "cell_type": "code",
   "execution_count": 7,
   "metadata": {},
   "outputs": [],
   "source": [
    "b = np.ones((5,2,3))"
   ]
  },
  {
   "cell_type": "markdown",
   "metadata": {},
   "source": [
    "#### 6. Print *b*.\n"
   ]
  },
  {
   "cell_type": "code",
   "execution_count": 8,
   "metadata": {},
   "outputs": [
    {
     "name": "stdout",
     "output_type": "stream",
     "text": [
      "[[[1. 1. 1.]\n",
      "  [1. 1. 1.]]\n",
      "\n",
      " [[1. 1. 1.]\n",
      "  [1. 1. 1.]]\n",
      "\n",
      " [[1. 1. 1.]\n",
      "  [1. 1. 1.]]\n",
      "\n",
      " [[1. 1. 1.]\n",
      "  [1. 1. 1.]]\n",
      "\n",
      " [[1. 1. 1.]\n",
      "  [1. 1. 1.]]]\n"
     ]
    }
   ],
   "source": [
    "print(b)"
   ]
  },
  {
   "cell_type": "markdown",
   "metadata": {},
   "source": [
    "#### 7. Do *a* and *b* have the same size? How do you prove that in Python code?"
   ]
  },
  {
   "cell_type": "code",
   "execution_count": 9,
   "metadata": {},
   "outputs": [
    {
     "data": {
      "text/plain": [
       "False"
      ]
     },
     "execution_count": 9,
     "metadata": {},
     "output_type": "execute_result"
    }
   ],
   "source": [
    "a.shape == b.shape #False --> They don't have the same size"
   ]
  },
  {
   "cell_type": "markdown",
   "metadata": {},
   "source": [
    "#### 8. Are you able to add *a* and *b*? Why or why not?\n"
   ]
  },
  {
   "cell_type": "code",
   "execution_count": 10,
   "metadata": {},
   "outputs": [
    {
     "ename": "ValueError",
     "evalue": "operands could not be broadcast together with shapes (2,3,5) (5,2,3) ",
     "output_type": "error",
     "traceback": [
      "\u001b[0;31m---------------------------------------------------------------------------\u001b[0m",
      "\u001b[0;31mValueError\u001b[0m                                Traceback (most recent call last)",
      "\u001b[0;32m<ipython-input-10-fabaabad400e>\u001b[0m in \u001b[0;36m<module>\u001b[0;34m\u001b[0m\n\u001b[0;32m----> 1\u001b[0;31m \u001b[0mprint\u001b[0m\u001b[0;34m(\u001b[0m\u001b[0mnp\u001b[0m\u001b[0;34m.\u001b[0m\u001b[0madd\u001b[0m\u001b[0;34m(\u001b[0m\u001b[0ma\u001b[0m\u001b[0;34m,\u001b[0m\u001b[0mb\u001b[0m\u001b[0;34m)\u001b[0m\u001b[0;34m)\u001b[0m \u001b[0;31m#operands could not be broadcast together with shapes (2,3,5) (5,2,3)\u001b[0m\u001b[0;34m\u001b[0m\u001b[0;34m\u001b[0m\u001b[0m\n\u001b[0m",
      "\u001b[0;31mValueError\u001b[0m: operands could not be broadcast together with shapes (2,3,5) (5,2,3) "
     ]
    }
   ],
   "source": [
    "print(np.add(a,b)) #operands could not be broadcast together with shapes (2,3,5) (5,2,3)"
   ]
  },
  {
   "cell_type": "markdown",
   "metadata": {},
   "source": [
    "#### 9. Transpose *b* so that it has the same structure of *a* (i.e. become a 2x3x5 array). Assign the transposed array to variable *c*."
   ]
  },
  {
   "cell_type": "code",
   "execution_count": 14,
   "metadata": {},
   "outputs": [
    {
     "data": {
      "text/plain": [
       "array([[[1., 1., 1., 1., 1.],\n",
       "        [1., 1., 1., 1., 1.],\n",
       "        [1., 1., 1., 1., 1.]],\n",
       "\n",
       "       [[1., 1., 1., 1., 1.],\n",
       "        [1., 1., 1., 1., 1.],\n",
       "        [1., 1., 1., 1., 1.]]])"
      ]
     },
     "execution_count": 14,
     "metadata": {},
     "output_type": "execute_result"
    }
   ],
   "source": [
    "c = np.transpose(b, (1,2,0))\n",
    "c\n"
   ]
  },
  {
   "cell_type": "markdown",
   "metadata": {},
   "source": [
    "#### 10. Try to add *a* and *c*. Now it should work. Assign the sum to variable *d*. But why does it work now?"
   ]
  },
  {
   "cell_type": "code",
   "execution_count": 15,
   "metadata": {},
   "outputs": [
    {
     "data": {
      "text/plain": [
       "array([[[1.03879542, 1.75836139, 1.37713237, 1.96596059, 1.67337088],\n",
       "        [1.11018271, 1.74337243, 1.47133335, 1.47315332, 1.73588965],\n",
       "        [1.83415568, 1.86824495, 1.37749535, 1.72199616, 1.09772186]],\n",
       "\n",
       "       [[1.16570096, 1.93510121, 1.59556608, 1.23583894, 1.72020446],\n",
       "        [1.40973249, 1.04872209, 1.83055642, 1.07480481, 1.68068872],\n",
       "        [1.0267615 , 1.7227258 , 1.25051321, 1.9080112 , 1.04150746]]])"
      ]
     },
     "execution_count": 15,
     "metadata": {},
     "output_type": "execute_result"
    }
   ],
   "source": [
    "d = np.add(a,c)\n",
    "d"
   ]
  },
  {
   "cell_type": "markdown",
   "metadata": {},
   "source": [
    "#### 11. Print *a* and *d*. Notice the difference and relation of the two array in terms of the values? Explain."
   ]
  },
  {
   "cell_type": "code",
   "execution_count": 17,
   "metadata": {},
   "outputs": [
    {
     "name": "stdout",
     "output_type": "stream",
     "text": [
      "[[[0.03879542 0.75836139 0.37713237 0.96596059 0.67337088]\n",
      "  [0.11018271 0.74337243 0.47133335 0.47315332 0.73588965]\n",
      "  [0.83415568 0.86824495 0.37749535 0.72199616 0.09772186]]\n",
      "\n",
      " [[0.16570096 0.93510121 0.59556608 0.23583894 0.72020446]\n",
      "  [0.40973249 0.04872209 0.83055642 0.07480481 0.68068872]\n",
      "  [0.0267615  0.7227258  0.25051321 0.9080112  0.04150746]]]\n"
     ]
    },
    {
     "data": {
      "text/plain": [
       "array([[[1.03879542, 1.75836139, 1.37713237, 1.96596059, 1.67337088],\n",
       "        [1.11018271, 1.74337243, 1.47133335, 1.47315332, 1.73588965],\n",
       "        [1.83415568, 1.86824495, 1.37749535, 1.72199616, 1.09772186]],\n",
       "\n",
       "       [[1.16570096, 1.93510121, 1.59556608, 1.23583894, 1.72020446],\n",
       "        [1.40973249, 1.04872209, 1.83055642, 1.07480481, 1.68068872],\n",
       "        [1.0267615 , 1.7227258 , 1.25051321, 1.9080112 , 1.04150746]]])"
      ]
     },
     "execution_count": 17,
     "metadata": {},
     "output_type": "execute_result"
    }
   ],
   "source": [
    "print(a) #Values of d = to the ones at a and c\n",
    "d"
   ]
  },
  {
   "cell_type": "markdown",
   "metadata": {},
   "source": [
    "#### 12. Multiply *a* and *c*. Assign the result to *e*."
   ]
  },
  {
   "cell_type": "code",
   "execution_count": 19,
   "metadata": {},
   "outputs": [
    {
     "data": {
      "text/plain": [
       "array([[[0.03879542, 0.75836139, 0.37713237, 0.96596059, 0.67337088],\n",
       "        [0.11018271, 0.74337243, 0.47133335, 0.47315332, 0.73588965],\n",
       "        [0.83415568, 0.86824495, 0.37749535, 0.72199616, 0.09772186]],\n",
       "\n",
       "       [[0.16570096, 0.93510121, 0.59556608, 0.23583894, 0.72020446],\n",
       "        [0.40973249, 0.04872209, 0.83055642, 0.07480481, 0.68068872],\n",
       "        [0.0267615 , 0.7227258 , 0.25051321, 0.9080112 , 0.04150746]]])"
      ]
     },
     "execution_count": 19,
     "metadata": {},
     "output_type": "execute_result"
    }
   ],
   "source": [
    "e = a*c\n",
    "e"
   ]
  },
  {
   "cell_type": "markdown",
   "metadata": {},
   "source": [
    "#### 13. Does *e* equal to *a*? Why or why not?\n"
   ]
  },
  {
   "cell_type": "code",
   "execution_count": 20,
   "metadata": {},
   "outputs": [
    {
     "name": "stdout",
     "output_type": "stream",
     "text": [
      "[[[0.03879542 0.75836139 0.37713237 0.96596059 0.67337088]\n",
      "  [0.11018271 0.74337243 0.47133335 0.47315332 0.73588965]\n",
      "  [0.83415568 0.86824495 0.37749535 0.72199616 0.09772186]]\n",
      "\n",
      " [[0.16570096 0.93510121 0.59556608 0.23583894 0.72020446]\n",
      "  [0.40973249 0.04872209 0.83055642 0.07480481 0.68068872]\n",
      "  [0.0267615  0.7227258  0.25051321 0.9080112  0.04150746]]]\n",
      "[[[0.03879542 0.75836139 0.37713237 0.96596059 0.67337088]\n",
      "  [0.11018271 0.74337243 0.47133335 0.47315332 0.73588965]\n",
      "  [0.83415568 0.86824495 0.37749535 0.72199616 0.09772186]]\n",
      "\n",
      " [[0.16570096 0.93510121 0.59556608 0.23583894 0.72020446]\n",
      "  [0.40973249 0.04872209 0.83055642 0.07480481 0.68068872]\n",
      "  [0.0267615  0.7227258  0.25051321 0.9080112  0.04150746]]]\n"
     ]
    }
   ],
   "source": [
    "print(e)\n",
    "print(a)"
   ]
  },
  {
   "cell_type": "markdown",
   "metadata": {},
   "source": [
    "#### 14. Identify the max, min, and mean values in *d*. Assign those values to variables *d_max*, *d_min* and *d_mean*."
   ]
  },
  {
   "cell_type": "code",
   "execution_count": 21,
   "metadata": {},
   "outputs": [],
   "source": [
    "d_max=np.max(d)\n",
    "d_min = np.min(d)\n",
    "d_mean = np.mean(d)"
   ]
  },
  {
   "cell_type": "markdown",
   "metadata": {},
   "source": [
    "#### 15. Now we want to label the values in *d*. First create an empty array *f* with the same shape (i.e. 2x3x5) as *d* using `np.empty`.\n"
   ]
  },
  {
   "cell_type": "code",
   "execution_count": 22,
   "metadata": {},
   "outputs": [
    {
     "data": {
      "text/plain": [
       "array([[[0.03879542, 0.75836139, 0.37713237, 0.96596059, 0.67337088],\n",
       "        [0.11018271, 0.74337243, 0.47133335, 0.47315332, 0.73588965],\n",
       "        [0.83415568, 0.86824495, 0.37749535, 0.72199616, 0.09772186]],\n",
       "\n",
       "       [[0.16570096, 0.93510121, 0.59556608, 0.23583894, 0.72020446],\n",
       "        [0.40973249, 0.04872209, 0.83055642, 0.07480481, 0.68068872],\n",
       "        [0.0267615 , 0.7227258 , 0.25051321, 0.9080112 , 0.04150746]]])"
      ]
     },
     "execution_count": 22,
     "metadata": {},
     "output_type": "execute_result"
    }
   ],
   "source": [
    "f = np.empty((2,3,5))\n",
    "f"
   ]
  },
  {
   "cell_type": "markdown",
   "metadata": {},
   "source": [
    "#### 16. Populate the values in *f*. \n",
    "\n",
    "For each value in *d*, if it's larger than *d_min* but smaller than *d_mean*, assign 25 to the corresponding value in *f*. If a value in *d* is larger than *d_mean* but smaller than *d_max*, assign 75 to the corresponding value in *f*. If a value equals to *d_mean*, assign 50 to the corresponding value in *f*. Assign 0 to the corresponding value(s) in *f* for *d_min* in *d*. Assign 100 to the corresponding value(s) in *f* for *d_max* in *d*. In the end, f should have only the following values: 0, 25, 50, 75, and 100.\n",
    "\n",
    "**Note**: you don't have to use Numpy in this question."
   ]
  },
  {
   "cell_type": "code",
   "execution_count": 23,
   "metadata": {},
   "outputs": [
    {
     "data": {
      "text/plain": [
       "array([ 25,  75,  25, 100,  75,  25,  75,  25,  25,  75,  75,  75,  25,\n",
       "        75,  25,  25,  75,  75,  25,  75,  25,  25,  75,  25,  75,   0,\n",
       "        75,  25,  75,  25])"
      ]
     },
     "execution_count": 23,
     "metadata": {},
     "output_type": "execute_result"
    }
   ],
   "source": [
    "f= []\n",
    "for x in d.flatten():\n",
    "   if x== d_min:\n",
    "       f.append(0)\n",
    "   elif x == d_max:\n",
    "       f.append(100)\n",
    "   elif x > d_min and x < d_mean:\n",
    "       f.append(25)\n",
    "   elif x > d_mean and x< d_max:\n",
    "       f.append(75)\n",
    "   elif x == d_mean:\n",
    "       f.append(50)\n",
    "f1 = np.array(f)\n",
    "f1"
   ]
  },
  {
   "cell_type": "markdown",
   "metadata": {},
   "source": [
    "#### 17. Print *d* and *f*. Do you have your expected *f*?\n",
    "For instance, if your *d* is:\n",
    "```python\n",
    "[[[1.85836099, 1.67064465, 1.62576044, 1.40243961, 1.88454931],\n",
    "[1.75354326, 1.69403643, 1.36729252, 1.61415071, 1.12104981],\n",
    "[1.72201435, 1.1862918 , 1.87078449, 1.7726778 , 1.88180042]],\n",
    "[[1.44747908, 1.31673383, 1.02000951, 1.52218947, 1.97066381],\n",
    "[1.79129243, 1.74983003, 1.96028037, 1.85166831, 1.65450881],\n",
    "[1.18068344, 1.9587381 , 1.00656599, 1.93402165, 1.73514584]]]\n",
    "```\n",
    "Your *f* should be:\n",
    "```python\n",
    "[[[ 75.,  75.,  75.,  25.,  75.],\n",
    "[ 75.,  75.,  25.,  25.,  25.],\n",
    "[ 75.,  25.,  75.,  75.,  75.]],\n",
    "[[ 25.,  25.,  25.,  25., 100.],\n",
    "[ 75.,  75.,  75.,  75.,  75.],\n",
    "[ 25.,  75.,   0.,  75.,  75.]]]\n",
    "```"
   ]
  },
  {
   "cell_type": "code",
   "execution_count": 24,
   "metadata": {},
   "outputs": [
    {
     "data": {
      "text/plain": [
       "array([[[1.03879542, 1.75836139, 1.37713237, 1.96596059, 1.67337088],\n",
       "        [1.11018271, 1.74337243, 1.47133335, 1.47315332, 1.73588965],\n",
       "        [1.83415568, 1.86824495, 1.37749535, 1.72199616, 1.09772186]],\n",
       "\n",
       "       [[1.16570096, 1.93510121, 1.59556608, 1.23583894, 1.72020446],\n",
       "        [1.40973249, 1.04872209, 1.83055642, 1.07480481, 1.68068872],\n",
       "        [1.0267615 , 1.7227258 , 1.25051321, 1.9080112 , 1.04150746]]])"
      ]
     },
     "execution_count": 24,
     "metadata": {},
     "output_type": "execute_result"
    }
   ],
   "source": [
    "d"
   ]
  },
  {
   "cell_type": "code",
   "execution_count": 25,
   "metadata": {},
   "outputs": [
    {
     "data": {
      "text/plain": [
       "array([ 25,  75,  25, 100,  75,  25,  75,  25,  25,  75,  75,  75,  25,\n",
       "        75,  25,  25,  75,  75,  25,  75,  25,  25,  75,  25,  75,   0,\n",
       "        75,  25,  75,  25])"
      ]
     },
     "execution_count": 25,
     "metadata": {},
     "output_type": "execute_result"
    }
   ],
   "source": [
    "f1"
   ]
  },
  {
   "cell_type": "markdown",
   "metadata": {},
   "source": [
    "#### 18. Bonus question: instead of using numbers (i.e. 0, 25, 50, 75, and 100), use string values  (\"A\", \"B\", \"C\", \"D\", and \"E\") to label the array elements. For the example above, the expected result is:\n",
    "\n",
    "```python\n",
    "[[[ 'D',  'D',  'D',  'B',  'D'],\n",
    "[ 'D',  'D',  'B',  'B',  'B'],\n",
    "[ 'D',  'B',  'D',  'D',  'D']],\n",
    "[[ 'B',  'B',  'B',  'B',  'E'],\n",
    "[ 'D',  'D',  'D',  'D',  'D'],\n",
    "[ 'B',  'D',   'A',  'D', 'D']]]\n",
    "```\n",
    "**Note**: you don't have to use Numpy in this question."
   ]
  },
  {
   "cell_type": "code",
   "execution_count": null,
   "metadata": {},
   "outputs": [],
   "source": [
    "# your code here"
   ]
  }
 ],
 "metadata": {
  "kernelspec": {
   "display_name": "Python 3",
   "language": "python",
   "name": "python3"
  },
  "language_info": {
   "codemirror_mode": {
    "name": "ipython",
    "version": 3
   },
   "file_extension": ".py",
   "mimetype": "text/x-python",
   "name": "python",
   "nbconvert_exporter": "python",
   "pygments_lexer": "ipython3",
   "version": "3.7.3"
  }
 },
 "nbformat": 4,
 "nbformat_minor": 2
}
